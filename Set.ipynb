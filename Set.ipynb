{
  "nbformat": 4,
  "nbformat_minor": 0,
  "metadata": {
    "colab": {
      "provenance": [],
      "collapsed_sections": [],
      "authorship_tag": "ABX9TyNkRS0slZSqoQZyMgBFdvgr",
      "include_colab_link": true
    },
    "kernelspec": {
      "name": "python3",
      "display_name": "Python 3"
    },
    "language_info": {
      "name": "python"
    }
  },
  "cells": [
    {
      "cell_type": "markdown",
      "metadata": {
        "id": "view-in-github",
        "colab_type": "text"
      },
      "source": [
        "<a href=\"https://colab.research.google.com/github/TeemoGyllenhaal/Python-g-n-c-b-n/blob/%C4%91%C3%A1/Set.ipynb\" target=\"_parent\"><img src=\"https://colab.research.google.com/assets/colab-badge.svg\" alt=\"Open In Colab\"/></a>"
      ]
    },
    {
      "cell_type": "code",
      "execution_count": null,
      "metadata": {
        "colab": {
          "base_uri": "https://localhost:8080/"
        },
        "id": "ADrmMr_ys2ZL",
        "outputId": "837897b7-edc4-4a29-f474-8158910cb962"
      },
      "outputs": [
        {
          "output_type": "stream",
          "name": "stdout",
          "text": [
            "{'Đại số tuyến tính', 'NNLT Python', 'Tiếng Anh chuyên ngành', 'Thể dục'}\n",
            "{'Natural Language Processing', 'Học Máy', 'NNLT Python', 'Computer vision', 'Recommender Systems', 'Đại số tuyến tính', 'Tối ưu hóa', 'Học sâu'}\n"
          ]
        }
      ],
      "source": [
        "A = {\"NNLT Python\", \"Đại số tuyến tính\", \"Tiếng Anh chuyên ngành\", \"Thể dục\"}\n",
        "B = {\"NNLT Python\", \"Đại số tuyến tính\", \"Tối ưu hóa\", \"Học Máy\", \"Học sâu\", \"Computer vision\", \"Natural Language Processing\", \"Recommender Systems\"}\n"
      ]
    },
    {
      "cell_type": "markdown",
      "source": [
        "2."
      ],
      "metadata": {
        "id": "LlhZ68vvtmpN"
      }
    },
    {
      "cell_type": "code",
      "source": [
        "print (A)\n",
        "print (B)"
      ],
      "metadata": {
        "id": "AWjz-pNGtnOx"
      },
      "execution_count": null,
      "outputs": []
    },
    {
      "cell_type": "markdown",
      "source": [
        "3."
      ],
      "metadata": {
        "id": "YLJEdkaQtp0c"
      }
    },
    {
      "cell_type": "code",
      "source": [
        "hop=A.union(B)\n",
        "print (hop)"
      ],
      "metadata": {
        "colab": {
          "base_uri": "https://localhost:8080/"
        },
        "id": "QlGvoikItqia",
        "outputId": "4694e3c0-10c9-44cc-9b3b-588bceca57ee"
      },
      "execution_count": null,
      "outputs": [
        {
          "output_type": "stream",
          "name": "stdout",
          "text": [
            "{'Natural Language Processing', 'NNLT Python', 'Học Máy', 'Computer vision', 'Recommender Systems', 'Đại số tuyến tính', 'Tiếng Anh chuyên ngành', 'Tối ưu hóa', 'Thể dục', 'Học sâu'}\n"
          ]
        }
      ]
    },
    {
      "cell_type": "markdown",
      "source": [
        "4."
      ],
      "metadata": {
        "id": "nKyPA7RXt3ez"
      }
    },
    {
      "cell_type": "code",
      "source": [
        "giao = A.intersection(B)\n",
        "print (giao)"
      ],
      "metadata": {
        "colab": {
          "base_uri": "https://localhost:8080/"
        },
        "id": "1PVskvjzt4C8",
        "outputId": "d3fa551a-444f-454d-ba70-29dee4945f7f"
      },
      "execution_count": null,
      "outputs": [
        {
          "output_type": "stream",
          "name": "stdout",
          "text": [
            "{'Đại số tuyến tính', 'NNLT Python'}\n"
          ]
        }
      ]
    },
    {
      "cell_type": "markdown",
      "source": [
        "5."
      ],
      "metadata": {
        "id": "rYBBSzpNuEAn"
      }
    },
    {
      "cell_type": "code",
      "source": [
        "hieu1 = A.difference(B)\n",
        "print (hieu1)"
      ],
      "metadata": {
        "colab": {
          "base_uri": "https://localhost:8080/"
        },
        "id": "MuefVrG3uEpJ",
        "outputId": "543a3595-130e-4997-f1d4-684c06b7c2cd"
      },
      "execution_count": null,
      "outputs": [
        {
          "output_type": "stream",
          "name": "stdout",
          "text": [
            "{'Tiếng Anh chuyên ngành', 'Thể dục'}\n"
          ]
        }
      ]
    },
    {
      "cell_type": "markdown",
      "source": [
        "5.55"
      ],
      "metadata": {
        "id": "zPAw6VEMug6A"
      }
    },
    {
      "cell_type": "code",
      "source": [
        "hieu2 = B.difference(A)\n",
        "print (hieu2)"
      ],
      "metadata": {
        "colab": {
          "base_uri": "https://localhost:8080/"
        },
        "id": "OpPRuhS8uhhc",
        "outputId": "0156cf9a-728f-402d-e1e8-a9711fb2b00d"
      },
      "execution_count": null,
      "outputs": [
        {
          "output_type": "stream",
          "name": "stdout",
          "text": [
            "{'Natural Language Processing', 'Recommender Systems', 'Học Máy', 'Computer vision', 'Tối ưu hóa', 'Học sâu'}\n"
          ]
        }
      ]
    },
    {
      "cell_type": "markdown",
      "source": [
        "6."
      ],
      "metadata": {
        "id": "B4pxo1Cju4Oq"
      }
    },
    {
      "cell_type": "code",
      "source": [
        "x = [1, 1, 1, 2, 2, 3, 3 ,3, 4 ,5 ,6, 7]\n",
        "print (x)"
      ],
      "metadata": {
        "colab": {
          "base_uri": "https://localhost:8080/"
        },
        "id": "unZUX9S-u7l5",
        "outputId": "6134529a-d472-47c8-b229-80a3fc4c3ec0"
      },
      "execution_count": null,
      "outputs": [
        {
          "output_type": "stream",
          "name": "stdout",
          "text": [
            "[1, 1, 1, 2, 2, 3, 3, 3, 4, 5, 6, 7]\n"
          ]
        }
      ]
    },
    {
      "cell_type": "markdown",
      "source": [
        "6.55"
      ],
      "metadata": {
        "id": "29QrTzbyu_wV"
      }
    },
    {
      "cell_type": "code",
      "source": [
        "X=set(x)\n",
        "print (X)"
      ],
      "metadata": {
        "colab": {
          "base_uri": "https://localhost:8080/"
        },
        "id": "EZnvRoMmvAkr",
        "outputId": "a3eb2021-e4d8-4020-d9ab-12da4a238709"
      },
      "execution_count": null,
      "outputs": [
        {
          "output_type": "stream",
          "name": "stdout",
          "text": [
            "{1, 2, 3, 4, 5, 6, 7}\n"
          ]
        }
      ]
    }
  ]
}