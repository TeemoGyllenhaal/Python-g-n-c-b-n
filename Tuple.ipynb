{
  "nbformat": 4,
  "nbformat_minor": 0,
  "metadata": {
    "colab": {
      "provenance": [],
      "collapsed_sections": [],
      "authorship_tag": "ABX9TyPsAvPrhvcve7CFRmjIOV1m",
      "include_colab_link": true
    },
    "kernelspec": {
      "name": "python3",
      "display_name": "Python 3"
    },
    "language_info": {
      "name": "python"
    }
  },
  "cells": [
    {
      "cell_type": "markdown",
      "metadata": {
        "id": "view-in-github",
        "colab_type": "text"
      },
      "source": [
        "<a href=\"https://colab.research.google.com/github/TeemoGyllenhaal/Python-g-n-c-b-n/blob/%C4%91%C3%A1/Tuple.ipynb\" target=\"_parent\"><img src=\"https://colab.research.google.com/assets/colab-badge.svg\" alt=\"Open In Colab\"/></a>"
      ]
    },
    {
      "cell_type": "markdown",
      "source": [
        "1."
      ],
      "metadata": {
        "id": "jdUubIpDrEV_"
      }
    },
    {
      "cell_type": "code",
      "execution_count": null,
      "metadata": {
        "colab": {
          "base_uri": "https://localhost:8080/"
        },
        "id": "-S_QdEHgrAn8",
        "outputId": "a973e25a-24c8-4639-d377-d28fc5e43682"
      },
      "outputs": [
        {
          "output_type": "stream",
          "name": "stdout",
          "text": [
            "(12, 45, -1, -0.56, 'abc', True)\n"
          ]
        }
      ],
      "source": [
        "t = (12,45,-1,-0.56,\"abc\",True)\n"
      ]
    },
    {
      "cell_type": "markdown",
      "source": [
        "2."
      ],
      "metadata": {
        "id": "JxbZh4O1rf77"
      }
    },
    {
      "cell_type": "code",
      "source": [
        "print (t)"
      ],
      "metadata": {
        "colab": {
          "base_uri": "https://localhost:8080/"
        },
        "id": "b3-t2sk0rgg1",
        "outputId": "4fa85d66-ef60-4851-b6c1-6e7815718460"
      },
      "execution_count": null,
      "outputs": [
        {
          "output_type": "stream",
          "name": "stdout",
          "text": [
            "(12, 45, -1, -0.56, 'abc', True)\n"
          ]
        }
      ]
    },
    {
      "cell_type": "markdown",
      "source": [
        "3."
      ],
      "metadata": {
        "id": "pczn1qTArjY3"
      }
    },
    {
      "cell_type": "code",
      "source": [
        "print (t[-1],t[0])\n"
      ],
      "metadata": {
        "colab": {
          "base_uri": "https://localhost:8080/"
        },
        "id": "TdLQl3pPrkCs",
        "outputId": "b29eefa9-28bf-4ebf-f2b0-e2f3d0628a3a"
      },
      "execution_count": null,
      "outputs": [
        {
          "output_type": "stream",
          "name": "stdout",
          "text": [
            "True 12\n"
          ]
        }
      ]
    },
    {
      "cell_type": "markdown",
      "source": [
        "4."
      ],
      "metadata": {
        "id": "SvkWTCMir38J"
      }
    },
    {
      "cell_type": "code",
      "source": [
        "print (t[0:4])"
      ],
      "metadata": {
        "colab": {
          "base_uri": "https://localhost:8080/"
        },
        "id": "3O-O-nhxr4mR",
        "outputId": "53270847-e743-43e3-d6ff-e185b0388d10"
      },
      "execution_count": null,
      "outputs": [
        {
          "output_type": "stream",
          "name": "stdout",
          "text": [
            "(12, 45, -1, -0.56)\n"
          ]
        }
      ]
    },
    {
      "cell_type": "markdown",
      "source": [
        "5."
      ],
      "metadata": {
        "id": "JiooXM7mskIU"
      }
    },
    {
      "cell_type": "code",
      "source": [
        "print (t[2:])"
      ],
      "metadata": {
        "colab": {
          "base_uri": "https://localhost:8080/"
        },
        "id": "bvjV-k_bsktD",
        "outputId": "ee16a032-27d1-4004-c782-661d40e3f5cc"
      },
      "execution_count": null,
      "outputs": [
        {
          "output_type": "stream",
          "name": "stdout",
          "text": [
            "(-1, -0.56, 'abc', True)\n"
          ]
        }
      ]
    },
    {
      "cell_type": "markdown",
      "source": [
        "6."
      ],
      "metadata": {
        "id": "m6II5sf9sq82"
      }
    },
    {
      "cell_type": "code",
      "source": [
        "T = list(t)\n",
        "type(T)"
      ],
      "metadata": {
        "colab": {
          "base_uri": "https://localhost:8080/"
        },
        "id": "LG-7_VOesrfG",
        "outputId": "c139bc06-0b44-4c60-de66-16b24960f352"
      },
      "execution_count": null,
      "outputs": [
        {
          "output_type": "execute_result",
          "data": {
            "text/plain": [
              "list"
            ]
          },
          "metadata": {},
          "execution_count": 11
        }
      ]
    }
  ]
}